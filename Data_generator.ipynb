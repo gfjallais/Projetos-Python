{
  "nbformat": 4,
  "nbformat_minor": 0,
  "metadata": {
    "colab": {
      "name": "Data_generator.ipynb",
      "provenance": [],
      "authorship_tag": "ABX9TyNpnn7UMBBt1gplOSpqCN+L",
      "include_colab_link": true
    },
    "kernelspec": {
      "name": "python3",
      "display_name": "Python 3"
    },
    "language_info": {
      "name": "python"
    }
  },
  "cells": [
    {
      "cell_type": "markdown",
      "metadata": {
        "id": "view-in-github",
        "colab_type": "text"
      },
      "source": [
        "<a href=\"https://colab.research.google.com/github/gfjallais/Projetos-Python/blob/main/Data_generator.ipynb\" target=\"_parent\"><img src=\"https://colab.research.google.com/assets/colab-badge.svg\" alt=\"Open In Colab\"/></a>"
      ]
    },
    {
      "cell_type": "code",
      "execution_count": 1,
      "metadata": {
        "id": "sRikLgXErYiB"
      },
      "outputs": [],
      "source": [
        "import numpy as np\n",
        "import pandas as pd\n",
        "import random"
      ]
    },
    {
      "cell_type": "code",
      "source": [
        "lst1 = []\n",
        "lst2 = []\n",
        "for i in range(200):\n",
        "  salary = random.randint(1000, 18000)\n",
        "  string = \"\"\n",
        "  for k in range(3):\n",
        "        n = random.randint(0,9)\n",
        "        string += str(n)\n",
        "  for j in range(3):\n",
        "    if j == 2:\n",
        "      string += \"-\"\n",
        "      for k in range(2):\n",
        "        n = random.randint(0,9)\n",
        "        string += str(n)\n",
        "    else:\n",
        "      string += \".\"\n",
        "      for k in range(3):\n",
        "        n = random.randint(0,9)\n",
        "        string += str(n)\n",
        "  lst1.append(string)\n",
        "  lst2.append(salary)\n",
        "\n",
        "dict = {'CPF': lst1, 'Salario': lst2}"
      ],
      "metadata": {
        "id": "4EqdtdV4td45"
      },
      "execution_count": 2,
      "outputs": []
    },
    {
      "cell_type": "code",
      "source": [
        "df1 = pd.read_csv('/content/MOCK_DATA (1).csv')[:200]\n",
        "df2 = pd.DataFrame.from_dict(dict)\n",
        "df = pd.concat([df1, df2], axis = 1)\n",
        "df.to_csv('/content/funcionario.csv')"
      ],
      "metadata": {
        "id": "X-Jg6ffN0DvR"
      },
      "execution_count": 4,
      "outputs": []
    },
    {
      "cell_type": "code",
      "source": [
        "ddd = ['11', '12', '13', '14', '15', '16', '17', '18', '19', '21', '22', '24',\n",
        "      '27', '28', '31', '32', '33', '34', '35', '37', '38', '41', '42', '43', \n",
        "      '44', '45', '46', '47', '48', '49', '51', '53', '54', '55', '61', '62', \n",
        "      '63', '64', '65', '66', '67', '68', '69', '71', '73', '75', '77', '81', \n",
        "      '82', '83', '84', '85', '86', '87', '88', '89', '91', '92', '93', '94', \n",
        "      '95', '96', '97', '98', '99']\n",
        "\n",
        "df_tel = pd.DataFrame(dict['CPF'])\n",
        "df_tel.columns = ['CPF']\n",
        "\n",
        "lst_ddd = [ddd[random.randint(0, len(ddd) - 1)] for i in range(240)]\n",
        "\n",
        "df_ddd = pd.DataFrame(lst_ddd)\n",
        "\n",
        "lst_tel = []\n",
        "for i in range(60):\n",
        "  string = \"\"\n",
        "  string += str(random.randint(1,9))\n",
        "  for k in range(3):\n",
        "    string += str(random.randint(0,9))\n",
        "  string += \"-\"\n",
        "  for k in range(4):\n",
        "    string += str(random.randint(0,9))\n",
        "  lst_tel.append(string)\n",
        "\n",
        "for i in range(180):\n",
        "  string = \"9\"\n",
        "  string += str(random.randint(1,9))\n",
        "  for k in range(3):\n",
        "    string += str(random.randint(0,9))\n",
        "  string += \"-\"\n",
        "  for k in range(4):\n",
        "    string += str(random.randint(0,9))\n",
        "  lst_tel.append(string)\n",
        "\n",
        "df_num = pd.DataFrame(lst_tel)\n",
        "\n",
        "df_temp = df_tel.sample(frac = 0.2)\n",
        "df_tel = pd.concat([df_tel, df_temp], axis = 0, ignore_index=True)\n",
        "\n",
        "df_telef = pd.concat([df_tel, df_ddd, df_num], axis = 1)\n",
        "df_telef.columns = ['CPF', 'DDD', 'Numero']\n",
        "df_telef.to_csv('/content/funcionario_telefone.csv')"
      ],
      "metadata": {
        "id": "2QwDFXav4MRe"
      },
      "execution_count": 5,
      "outputs": []
    },
    {
      "cell_type": "code",
      "source": [
        "estados = ['SP', 'MG', 'RJ']\n",
        "\n",
        "df_med = pd.DataFrame(dict['CPF'])[:40]\n",
        "df_med.columns = ['CPF']\n",
        "\n",
        "lst_crm = []\n",
        "for i in range(20):\n",
        "  string = \"\"\n",
        "  for j in range(6):\n",
        "    string += str(random.randint(0,9))\n",
        "  string += \"/\"\n",
        "  string += estados[random.randint(0, len(estados) - 1)]\n",
        "  lst_crm.append(string)\n",
        "\n",
        "for i in range(20):\n",
        "  string = \"\"\n",
        "  for j in range(5):\n",
        "    string += str(random.randint(0,9))\n",
        "  string += \"/\"\n",
        "  string += estados[random.randint(0, len(estados) - 1)]\n",
        "  lst_crm.append(string)\n",
        "\n",
        "df_crm = pd.DataFrame(lst_crm)\n",
        "\n",
        "df_med = pd.concat([df_med, df_crm], axis = 1)\n",
        "df_med.columns = ['CPF', 'CRM']\n",
        "df_med.to_csv('/content/medico.csv')"
      ],
      "metadata": {
        "id": "4puyw8xQ8kye"
      },
      "execution_count": 6,
      "outputs": []
    },
    {
      "cell_type": "code",
      "source": [
        "pulseiras = ['Vermelho', 'Amarelo', 'Azul', 'Verde']\n",
        "genero = ['M', 'F']\n",
        "\n",
        "cpf_paciente = []\n",
        "pulseiras_p = []\n",
        "genero_p = []\n",
        "\n",
        "while len(cpf_paciente) < 1000:\n",
        "  string = \"\"\n",
        "  for k in range(3):\n",
        "        n = random.randint(0,9)\n",
        "        string += str(n)\n",
        "  for j in range(3):\n",
        "    if j == 2:\n",
        "      string += \"-\"\n",
        "      for k in range(2):\n",
        "        n = random.randint(0,9)\n",
        "        string += str(n)\n",
        "    else:\n",
        "      string += \".\"\n",
        "      for k in range(3):\n",
        "        n = random.randint(0,9)\n",
        "        string += str(n)\n",
        "  if string not in dict['CPF']:\n",
        "    cpf_paciente.append(string)\n",
        "\n",
        "paciente_cpf_df = pd.DataFrame(cpf_paciente)\n",
        "\n",
        "for i in range(1000):\n",
        "  pulseiras_p.append(pulseiras[random.randint(0,len(pulseiras) - 1)])\n",
        "  genero_p.append(genero[random.randint(0,len(genero) - 1)])\n",
        "\n",
        "paciente_pulseira_df = pd.DataFrame(pulseiras_p)\n",
        "paciente_genero_df = pd.DataFrame(genero_p)\n",
        "\n",
        "paciente_df = pd.read_csv('/content/MOCK_DATA (2).csv')\n",
        "paciente_df = pd.concat([paciente_df, paciente_cpf_df, paciente_genero_df, paciente_pulseira_df], axis = 1)\n",
        "paciente_df.columns = ['Nome', 'CPF', 'Sexo', 'Cor_pulseira']\n",
        "paciente_df.to_csv('/content/paciente.csv')\n",
        "\n",
        "\n",
        "df_tel = pd.DataFrame(paciente_cpf_df)\n",
        "df_tel.columns = ['CPF']\n",
        "\n",
        "lst_ddd = [ddd[random.randint(0, len(ddd) - 1)] for i in range(1200)]\n",
        "\n",
        "df_ddd = pd.DataFrame(lst_ddd)\n",
        "\n",
        "lst_tel = []\n",
        "for i in range(300):\n",
        "  string = \"\"\n",
        "  string += str(random.randint(1,9))\n",
        "  for k in range(3):\n",
        "    string += str(random.randint(0,9))\n",
        "  string += \"-\"\n",
        "  for k in range(4):\n",
        "    string += str(random.randint(0,9))\n",
        "  lst_tel.append(string)\n",
        "\n",
        "for i in range(900):\n",
        "  string = \"9\"\n",
        "  string += str(random.randint(1,9))\n",
        "  for k in range(3):\n",
        "    string += str(random.randint(0,9))\n",
        "  string += \"-\"\n",
        "  for k in range(4):\n",
        "    string += str(random.randint(0,9))\n",
        "  lst_tel.append(string)\n",
        "\n",
        "df_num = pd.DataFrame(lst_tel)\n",
        "\n",
        "df_temp = df_tel.sample(frac = 0.2)\n",
        "df_tel = pd.concat([df_tel, df_temp], axis = 0, ignore_index=True)\n",
        "\n",
        "df_telef = pd.concat([df_tel, df_ddd, df_num], axis = 1)\n",
        "df_telef.columns = ['CPF', 'DDD', 'Numero']\n",
        "df_telef.to_csv('/content/paciente_telefone.csv')"
      ],
      "metadata": {
        "id": "JIW20j1Cub1O"
      },
      "execution_count": 7,
      "outputs": []
    },
    {
      "cell_type": "code",
      "source": [
        "df_enf = pd.DataFrame(dict['CPF'][41:101])\n",
        "df_enf.columns = ['CPF']\n",
        "\n",
        "enf_cip = []\n",
        "for i in range(60):\n",
        "  string = \"\"\n",
        "  for j in range(7):\n",
        "    string += str(random.randint(0,9))\n",
        "  enf_cip.append(string)\n",
        "\n",
        "df_enf_cip = pd.DataFrame(enf_cip)\n",
        "df_temp = df_enf_cip.sample(frac = 0.2)\n",
        "df_enf_sup = pd.concat([df_temp, df_temp, df_temp, df_temp, df_temp], axis = 0, ignore_index=True)\n",
        "df_enf = pd.concat([df_enf, df_enf_cip, df_enf_sup], axis = 1)\n",
        "df_enf.columns = ['CPF', 'CIP', 'CIP_Supervisor']\n",
        "df_enf.to_csv('/content/enfermeiro.csv')"
      ],
      "metadata": {
        "id": "F3DMkd2ghRcy"
      },
      "execution_count": 8,
      "outputs": []
    },
    {
      "cell_type": "code",
      "source": [
        "funcao = ['RH', 'Financas', 'Atendimento', 'Servicos', 'Logistica']\n",
        "\n",
        "lsf_func = [funcao[random.randint(0,len(funcao) - 1)] for i in range(30)]\n",
        "df_adm_func = pd.DataFrame(lsf_func)\n",
        "\n",
        "df_adm = pd.DataFrame(dict['CPF'][102:132])\n",
        "\n",
        "df_adm = pd.concat([df_adm, df_adm_func], axis = 1)\n",
        "df_adm.columns = ['CPF', 'Funcao']\n",
        "df_adm.to_csv('/content/administrativo.csv')"
      ],
      "metadata": {
        "id": "vMiRxNsnmceH"
      },
      "execution_count": 9,
      "outputs": []
    },
    {
      "cell_type": "code",
      "source": [
        "dept_nomes = ['Pediatria', 'Oncologia', 'Pronto-Socorro', 'UTI', 'Enfermaria', 'Maternidade', 'Cardiologia', 'Ortopedia']\n",
        "\n",
        "dno = np.arange(len(dept_nomes))\n",
        "\n",
        "dept_mng = df_crm.sample(len(dept_nomes), ignore_index=True)\n",
        "\n",
        "andar = [random.randint(0, 3) for i in range(len(dno))]\n",
        "\n",
        "df_dno = pd.DataFrame(dno)\n",
        "df_dept_nome = pd.DataFrame(dept_nomes)\n",
        "df_dept_andar = pd.DataFrame(andar)\n",
        "df_dept = pd.concat([df_dno, df_dept_nome, dept_mng, df_dept_andar], axis = 1)\n",
        "df_dept.columns = ['DNO', 'Nome', 'CRM', 'Andar']\n",
        "df_dept.to_csv('/content/departamento.csv')"
      ],
      "metadata": {
        "id": "ODURx1JZn5TV"
      },
      "execution_count": 10,
      "outputs": []
    },
    {
      "cell_type": "code",
      "source": [
        "lst_tel = []\n",
        "for i in range(len(dno)):\n",
        "  string = \"\"\n",
        "  string += str(random.randint(1,9))\n",
        "  for k in range(3):\n",
        "    string += str(random.randint(0,9))\n",
        "  string += \"-\"\n",
        "  for k in range(4):\n",
        "    string += str(random.randint(0,9))\n",
        "  lst_tel.append(string)\n",
        "\n",
        "lst_ddd = [31 for i in range(len(dno))]\n",
        "\n",
        "id_ramal = np.arange(3000, 3000 + len(dno))\n",
        "\n",
        "df_dept_ramal = pd.DataFrame([dno, id_ramal, lst_ddd, lst_tel])\n",
        "df_dept_ramal = df_dept_ramal.T\n",
        "df_dept_ramal.columns = ['DNO', 'Identificador', 'DDD', 'Telefone']\n",
        "df_dept_ramal.to_csv('/content/departamento_ramal.csv')"
      ],
      "metadata": {
        "id": "beWk6FcWsRgP"
      },
      "execution_count": 11,
      "outputs": []
    },
    {
      "cell_type": "code",
      "source": [
        "medicamentos = pd.read_table('/content/medicamentos.txt')\n",
        "medicamentos\n",
        "\n",
        "dosagens = np.arange(50, 225, 25)\n",
        "lst_dosagens = []\n",
        "for i in range(len(medicamentos)):\n",
        "  string = \"\"\n",
        "  string += str(dosagens[random.randint(0, len(dosagens) - 1)])\n",
        "  string += \" mg/mL\"\n",
        "  lst_dosagens.append(string)\n",
        "df_dosagens = pd.DataFrame(lst_dosagens)\n",
        "\n",
        "df_medicacao = pd.concat([medicamentos, df_dosagens], axis=1)\n",
        "df_medicacao.columns = ['Remedio', 'Id_remedio', 'Dosagem']\n",
        "columns_titles = ['Id_remedio','Remedio', 'Dosagem']\n",
        "df_medicacao=df_medicacao.reindex(columns=columns_titles)\n",
        "\n",
        "df_medicacao.to_csv('/content/medicacao.csv')"
      ],
      "metadata": {
        "id": "RGYIS0SNuprJ"
      },
      "execution_count": 14,
      "outputs": []
    },
    {
      "cell_type": "code",
      "source": [
        "lst_dno = []\n",
        "for i in range(len(lst_crm)):\n",
        "  lst_dno.append(dno[random.randint(0, len(dno) - 1)])\n",
        "\n",
        "trabalha_para = pd.DataFrame([lst_crm, lst_dno])\n",
        "trabalha_para = trabalha_para.T\n",
        "trabalha_para.columns = ['CRM', 'DNO']\n",
        "trabalha_para.to_csv('/content/trabalha_para.csv')"
      ],
      "metadata": {
        "id": "AY6zedQM77X3"
      },
      "execution_count": 15,
      "outputs": []
    },
    {
      "cell_type": "code",
      "source": [
        "descricao1_df = pd.read_csv('/content/MOCK_DATA (3).csv')\n",
        "descricao2_df = pd.read_csv('/content/MOCK_DATA (4).csv')\n",
        "descricao3_df = pd.read_csv('/content/MOCK_DATA (6).csv')\n",
        "descricao4_df = pd.read_csv('/content/MOCK_DATA (7).csv')\n",
        "\n",
        "descricao1_df = pd.concat([descricao1_df, descricao2_df, descricao3_df, descricao4_df], ignore_index=True)\n",
        "\n",
        "ids_med = medicamentos.sample(descricao1_df.shape[0], ignore_index=True)['NUMERO_REGISTRO_PRODUTO']\n",
        "\n",
        "lst_id_presc = [random.randint(100000, 999999) for i in range(descricao1_df.shape[0])]\n",
        "id_presc_df = pd.DataFrame(lst_id_presc)\n",
        "\n",
        "prescricao = pd.concat([id_presc_df, ids_med, descricao1_df], axis = 1)\n",
        "prescricao.columns = ['Id_prescricao', 'Id_remedio', 'Descricao']\n",
        "prescricao.to_csv('/content/prescricao.csv')"
      ],
      "metadata": {
        "id": "M1vP_DLc83ou"
      },
      "execution_count": 44,
      "outputs": []
    },
    {
      "cell_type": "code",
      "source": [
        "atendido_por = pd.DataFrame(lst_id_presc)\n",
        "df_cpf_paciente_atendido = paciente_cpf_df.sample(len(lst_id_presc), ignore_index=True, replace=True)\n",
        "df_crm_medico = df_crm.sample(len(lst_id_presc), ignore_index=True, replace=True)\n",
        "\n",
        "\n",
        "horario_i = []\n",
        "horario_f = []\n",
        "for i in range(len(lst_id_presc)):\n",
        "  string1 = ''\n",
        "  string2 = ''\n",
        "  temp_h = random.randint(7, 18)\n",
        "  if temp_h < 10:\n",
        "    string1 += '0'\n",
        "  if temp_h + 1 < 10:\n",
        "    string2 += '0'\n",
        "  string1 += str(temp_h) + 'h'\n",
        "  string2 += str(temp_h + 1) + 'h'\n",
        "  temp_m = random.randint(0,60)\n",
        "  if temp_m < 10:\n",
        "    string1 += '0'\n",
        "  if temp_m + 1 < 10:\n",
        "    string2 += '0'\n",
        "  string1 += str(temp_m)\n",
        "  string2 += str(temp_m)\n",
        "  horario_i.append(string1)\n",
        "  horario_f.append(string2)\n",
        "\n",
        "dict_h = {'Horario_inicio': horario_i, 'Horario_term': horario_f}\n",
        "df_horarios = pd.DataFrame(dict_h)\n",
        "\n",
        "atendido_por = pd.concat([atendido_por, df_cpf_paciente_atendido, df_crm_medico, df_horarios], axis = 1)\n",
        "atendido_por.columns = ['Id_prescricao', 'CPF', 'CRM', 'Horario_inicio', 'Horario_term']\n",
        "atendido_por.to_csv('/content/atendido_por.csv')"
      ],
      "metadata": {
        "id": "C5hCEfkZBaX-"
      },
      "execution_count": 45,
      "outputs": []
    },
    {
      "cell_type": "code",
      "source": [
        "auxiliado_por = paciente_cpf_df.sample(150, ignore_index = True)\n",
        "df_cip_aux = df_enf_cip.sample(150, ignore_index=True, replace=True)\n",
        "\n",
        "auxiliado_por = pd.concat([auxiliado_por, df_cip_aux], axis = 1)\n",
        "auxiliado_por.columns = ['CPF', 'CIP']\n",
        "auxiliado_por.to_csv('/content/auxiliado_por.csv')"
      ],
      "metadata": {
        "id": "0jWSpp67y2i2"
      },
      "execution_count": 46,
      "outputs": []
    },
    {
      "cell_type": "code",
      "source": [
        "acompanhantes = pd.read_csv('/content/MOCK_DATA (5).csv')\n",
        "\n",
        "lst_idades = [random.randint(18, 85) for i in range(200)]\n",
        "df_idades = pd.DataFrame(lst_idades)\n",
        "df_temp_cpf = paciente_cpf_df.sample(120, ignore_index=True)\n",
        "df_temp_cpf = df_temp_cpf.sample(200, ignore_index=True, replace=True)\n",
        "df_temp_cpf.columns =['CPF']\n",
        "acompanhante_cpf = []\n",
        "while len(acompanhante_cpf) < 200:\n",
        "  string = \"\"\n",
        "  for k in range(3):\n",
        "        n = random.randint(0,9)\n",
        "        string += str(n)\n",
        "  for j in range(3):\n",
        "    if j == 2:\n",
        "      string += \"-\"\n",
        "      for k in range(2):\n",
        "        n = random.randint(0,9)\n",
        "        string += str(n)\n",
        "    else:\n",
        "      string += \".\"\n",
        "      for k in range(3):\n",
        "        n = random.randint(0,9)\n",
        "        string += str(n)\n",
        "  if string not in df_temp_cpf['CPF']:\n",
        "    acompanhante_cpf.append(string)\n",
        "df_acompanhante_cpf = pd.DataFrame(acompanhante_cpf)\n",
        "\n",
        "acompanhantes = pd.concat([df_acompanhante_cpf, df_temp_cpf, acompanhantes, df_idades], axis = 1)\n",
        "acompanhantes.columns = ['CPF', 'CPF_paciente', 'Nome', 'Idade']\n",
        "acompanhantes.to_csv('/content/acompanhante.csv')"
      ],
      "metadata": {
        "id": "sD1oU_tS0MHX"
      },
      "execution_count": 55,
      "outputs": []
    }
  ]
}